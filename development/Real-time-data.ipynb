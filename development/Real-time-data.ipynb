{
 "cells": [
  {
   "cell_type": "code",
   "execution_count": null,
   "metadata": {},
   "outputs": [],
   "source": [
    "s3://drivendata-public-assets/ground_measures_features.csv"
   ]
  },
  {
   "cell_type": "code",
   "execution_count": null,
   "metadata": {},
   "outputs": [],
   "source": [
    "\n",
    "# instantiate a connection to the S3 resource\n",
    "s3 = boto3.resource(\"s3\")\n",
    "\n",
    "# load another object (same bucket name, different key this time)\n",
    "csv_obj = s3.Object(bucket_name=\"drivendata-public-assets\", key=\"ground_measures_features.csv\")\n",
    "\n",
    "# get the response\n",
    "csv_resp = csv_obj.get()[\"Body\"].read()\n",
    "\n",
    "# look at what's in there (first 100 characters)\n",
    "csv_resp[:100]"
   ]
  },
  {
   "cell_type": "code",
   "execution_count": null,
   "metadata": {},
   "outputs": [],
   "source": [
    "# read the string of bytes into BytesIO object\n",
    "csv_bytes = BytesIO(csv_resp)\n",
    "\n",
    "# read the csv file into a dataframe using pandas\n",
    "boto3_loaded_df = pd.read_csv(csv_bytes)\n",
    "boto3_loaded_df"
   ]
  },
  {
   "cell_type": "code",
   "execution_count": 1,
   "metadata": {
    "ExecuteTime": {
     "end_time": "2022-05-19T20:56:49.136526Z",
     "start_time": "2022-05-19T20:56:47.564700Z"
    }
   },
   "outputs": [],
   "source": [
    "import matplotlib.pyplot as plt"
   ]
  },
  {
   "cell_type": "code",
   "execution_count": 2,
   "metadata": {
    "ExecuteTime": {
     "end_time": "2022-05-19T20:56:49.939640Z",
     "start_time": "2022-05-19T20:56:49.921397Z"
    }
   },
   "outputs": [],
   "source": [
    "rand_list = [15, 32, 43, 34, 34, 24, 35, 12, 30, 24, 31, 27, 30, 22, 31, 26, 33,\\\n",
    "       23, 27, 34, 37, 29, 25, 22, 27, 24, 25, 22, 31, 13, 27, 18, 22, 29,\\\n",
    "       26, 37, 30, 27, 26, 30, 27, 26, 27, 22, 28, 33, 19, 38, 33, 30, 20,\\\n",
    "       18, 36, 22, 25, 30, 25, 26, 33, 38, 30, 18, 17, 33, 37, 12, 28, 24,\\\n",
    "       26, 23, 27, 32, 20, 30, 17, 28, 38, 38, 28, 24, 30, 34, 27, 26, 28,\\\n",
    "       25, 27, 20, 36, 26, 24, 31, 30, 17, 24, 39, 31, 21, 23, 27]\n"
   ]
  },
  {
   "cell_type": "code",
   "execution_count": 3,
   "metadata": {
    "ExecuteTime": {
     "end_time": "2022-05-19T20:56:50.669447Z",
     "start_time": "2022-05-19T20:56:50.642446Z"
    }
   },
   "outputs": [
    {
     "data": {
      "text/plain": [
       "[15,\n",
       " 32,\n",
       " 43,\n",
       " 34,\n",
       " 34,\n",
       " 24,\n",
       " 35,\n",
       " 12,\n",
       " 30,\n",
       " 24,\n",
       " 31,\n",
       " 27,\n",
       " 30,\n",
       " 22,\n",
       " 31,\n",
       " 26,\n",
       " 33,\n",
       " 23,\n",
       " 27,\n",
       " 34,\n",
       " 37,\n",
       " 29,\n",
       " 25,\n",
       " 22,\n",
       " 27,\n",
       " 24,\n",
       " 25,\n",
       " 22,\n",
       " 31,\n",
       " 13,\n",
       " 27,\n",
       " 18,\n",
       " 22,\n",
       " 29,\n",
       " 26,\n",
       " 37,\n",
       " 30,\n",
       " 27,\n",
       " 26,\n",
       " 30,\n",
       " 27,\n",
       " 26,\n",
       " 27,\n",
       " 22,\n",
       " 28,\n",
       " 33,\n",
       " 19,\n",
       " 38,\n",
       " 33,\n",
       " 30,\n",
       " 20,\n",
       " 18,\n",
       " 36,\n",
       " 22,\n",
       " 25,\n",
       " 30,\n",
       " 25,\n",
       " 26,\n",
       " 33,\n",
       " 38,\n",
       " 30,\n",
       " 18,\n",
       " 17,\n",
       " 33,\n",
       " 37,\n",
       " 12,\n",
       " 28,\n",
       " 24,\n",
       " 26,\n",
       " 23,\n",
       " 27,\n",
       " 32,\n",
       " 20,\n",
       " 30,\n",
       " 17,\n",
       " 28,\n",
       " 38,\n",
       " 38,\n",
       " 28,\n",
       " 24,\n",
       " 30,\n",
       " 34,\n",
       " 27,\n",
       " 26,\n",
       " 28,\n",
       " 25,\n",
       " 27,\n",
       " 20,\n",
       " 36,\n",
       " 26,\n",
       " 24,\n",
       " 31,\n",
       " 30,\n",
       " 17,\n",
       " 24,\n",
       " 39,\n",
       " 31,\n",
       " 21,\n",
       " 23,\n",
       " 27]"
      ]
     },
     "execution_count": 3,
     "metadata": {},
     "output_type": "execute_result"
    }
   ],
   "source": [
    "rand_list"
   ]
  },
  {
   "cell_type": "code",
   "execution_count": 4,
   "metadata": {
    "ExecuteTime": {
     "end_time": "2022-05-19T20:57:00.340852Z",
     "start_time": "2022-05-19T20:56:59.033478Z"
    }
   },
   "outputs": [
    {
     "data": {
      "text/plain": [
       "(array([ 4.,  6.,  5., 16., 24., 17., 12.,  7.,  8.,  1.]),\n",
       " array([12. , 15.1, 18.2, 21.3, 24.4, 27.5, 30.6, 33.7, 36.8, 39.9, 43. ]),\n",
       " <BarContainer object of 10 artists>)"
      ]
     },
     "execution_count": 4,
     "metadata": {},
     "output_type": "execute_result"
    },
    {
     "data": {
      "image/png": "[encoded data removed]",
      "text/plain": [
       "<Figure size 432x288 with 1 Axes>"
      ]
     },
     "metadata": {
      "needs_background": "light"
     },
     "output_type": "display_data"
    }
   ],
   "source": [
    "plt.hist(rand_list)"
   ]
  },
  {
   "cell_type": "code",
   "execution_count": null,
   "metadata": {},
   "outputs": [],
   "source": []
  }
 ],
 "metadata": {
  "kernelspec": {
   "display_name": "Python 3 (ipykernel)",
   "language": "python",
   "name": "python3"
  },
  "language_info": {
   "codemirror_mode": {
    "name": "ipython",
    "version": 3
   },
   "file_extension": ".py",
   "mimetype": "text/x-python",
   "name": "python",
   "nbconvert_exporter": "python",
   "pygments_lexer": "ipython3",
   "version": "3.10.4"
  },
  "toc": {
   "base_numbering": 1,
   "nav_menu": {},
   "number_sections": true,
   "sideBar": true,
   "skip_h1_title": false,
   "title_cell": "Table of Contents",
   "title_sidebar": "Contents",
   "toc_cell": false,
   "toc_position": {},
   "toc_section_display": true,
   "toc_window_display": false
  },
  "varInspector": {
   "cols": {
    "lenName": 16,
    "lenType": 16,
    "lenVar": 40
   },
   "kernels_config": {
    "python": {
     "delete_cmd_postfix": "",
     "delete_cmd_prefix": "del ",
     "library": "var_list.py",
     "varRefreshCmd": "print(var_dic_list())"
    },
    "r": {
     "delete_cmd_postfix": ") ",
     "delete_cmd_prefix": "rm(",
     "library": "var_list.r",
     "varRefreshCmd": "cat(var_dic_list()) "
    }
   },
   "types_to_exclude": [
    "module",
    "function",
    "builtin_function_or_method",
    "instance",
    "_Feature"
   ],
   "window_display": false
  }
 },
 "nbformat": 4,
 "nbformat_minor": 4
}
