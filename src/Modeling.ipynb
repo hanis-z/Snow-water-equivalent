{
 "cells": [
  {
   "cell_type": "markdown",
   "metadata": {},
   "source": [
    "### Import packages"
   ]
  },
  {
   "cell_type": "code",
   "execution_count": 82,
   "metadata": {
    "ExecuteTime": {
     "end_time": "2022-05-26T00:14:00.737590Z",
     "start_time": "2022-05-26T00:14:00.692801Z"
    }
   },
   "outputs": [],
   "source": [
    "import pandas as pd\n",
    "pd.set_option('display.max_columns', None)\n",
    "\n",
    "\n",
    "import numpy as np\n",
    "import math\n",
    "import pickle\n",
    "import folium\n",
    "import json\n",
    "\n",
    "import matplotlib.pyplot as plt\n",
    "import seaborn as sns\n",
    "%matplotlib inline\n",
    "\n",
    "from xgboost import XGBClassifier\n",
    "\n",
    "\n",
    "from sklearn.feature_selection import SelectFromModel\n",
    "from sklearn.model_selection import train_test_split, GridSearchCV, cross_val_score\n",
    "from sklearn.pipeline import Pipeline\n",
    "from sklearn.preprocessing import StandardScaler, OneHotEncoder, FunctionTransformer, OrdinalEncoder\n",
    "from sklearn.dummy import DummyRegressor\n",
    "from sklearn.compose import ColumnTransformer\n",
    "from sklearn.linear_model import LogisticRegression, BayesianRidge, Ridge\n",
    "from sklearn.ensemble import HistGradientBoostingRegressor, GradientBoostingClassifier\n",
    "from sklearn.experimental import enable_iterative_imputer\n",
    "from sklearn.impute import IterativeImputer"
   ]
  },
  {
   "cell_type": "markdown",
   "metadata": {},
   "source": [
    "# Modeling"
   ]
  },
  {
   "cell_type": "markdown",
   "metadata": {},
   "source": [
    "### Load Data"
   ]
  },
  {
   "cell_type": "code",
   "execution_count": 32,
   "metadata": {
    "ExecuteTime": {
     "end_time": "2022-05-25T02:36:57.442639Z",
     "start_time": "2022-05-25T02:36:57.086417Z"
    }
   },
   "outputs": [
    {
     "data": {
      "text/html": [
       "<div>\n",
       "<style scoped>\n",
       "    .dataframe tbody tr th:only-of-type {\n",
       "        vertical-align: middle;\n",
       "    }\n",
       "\n",
       "    .dataframe tbody tr th {\n",
       "        vertical-align: top;\n",
       "    }\n",
       "\n",
       "    .dataframe thead th {\n",
       "        text-align: right;\n",
       "    }\n",
       "</style>\n",
       "<table border=\"1\" class=\"dataframe\">\n",
       "  <thead>\n",
       "    <tr style=\"text-align: right;\">\n",
       "      <th></th>\n",
       "      <th>cell_id</th>\n",
       "      <th>dates</th>\n",
       "      <th>value</th>\n",
       "      <th>neighbor_1</th>\n",
       "      <th>neighbor_2</th>\n",
       "      <th>neighbor_3</th>\n",
       "      <th>neighbor_4</th>\n",
       "      <th>neighbor_5</th>\n",
       "      <th>neighbor_6</th>\n",
       "      <th>neighbor_7</th>\n",
       "      <th>...</th>\n",
       "      <th>neighbor_14</th>\n",
       "      <th>neighbor_15</th>\n",
       "      <th>neighbor_16</th>\n",
       "      <th>neighbor_17</th>\n",
       "      <th>neighbor_18</th>\n",
       "      <th>neighbor_19</th>\n",
       "      <th>neighbor_20</th>\n",
       "      <th>latitude</th>\n",
       "      <th>longitude</th>\n",
       "      <th>region</th>\n",
       "    </tr>\n",
       "  </thead>\n",
       "  <tbody>\n",
       "    <tr>\n",
       "      <th>0</th>\n",
       "      <td>00c4db22-a423-41a4-ada6-a8b1b04153a4</td>\n",
       "      <td>2013-01-01</td>\n",
       "      <td>12.7</td>\n",
       "      <td>2.0</td>\n",
       "      <td>1.6</td>\n",
       "      <td>6.4</td>\n",
       "      <td>3.2</td>\n",
       "      <td>2.7</td>\n",
       "      <td>2.0</td>\n",
       "      <td>2.8</td>\n",
       "      <td>...</td>\n",
       "      <td>6.6</td>\n",
       "      <td>10.60</td>\n",
       "      <td>8.4</td>\n",
       "      <td>2.88</td>\n",
       "      <td>4.10</td>\n",
       "      <td>7.24</td>\n",
       "      <td>4.00</td>\n",
       "      <td>-121.9</td>\n",
       "      <td>41.2</td>\n",
       "      <td>other</td>\n",
       "    </tr>\n",
       "    <tr>\n",
       "      <th>1</th>\n",
       "      <td>018cf1a1-f945-4097-9c47-0c4690538bb5</td>\n",
       "      <td>2013-01-01</td>\n",
       "      <td>20.4</td>\n",
       "      <td>2.0</td>\n",
       "      <td>1.6</td>\n",
       "      <td>6.4</td>\n",
       "      <td>3.2</td>\n",
       "      <td>2.7</td>\n",
       "      <td>2.0</td>\n",
       "      <td>2.8</td>\n",
       "      <td>...</td>\n",
       "      <td>10.6</td>\n",
       "      <td>6.60</td>\n",
       "      <td>8.4</td>\n",
       "      <td>2.88</td>\n",
       "      <td>4.10</td>\n",
       "      <td>7.24</td>\n",
       "      <td>4.00</td>\n",
       "      <td>-120.6</td>\n",
       "      <td>39.7</td>\n",
       "      <td>sierras</td>\n",
       "    </tr>\n",
       "    <tr>\n",
       "      <th>2</th>\n",
       "      <td>01be2cc7-ef77-4e4d-80ed-c4f8139162c3</td>\n",
       "      <td>2013-01-01</td>\n",
       "      <td>37.0</td>\n",
       "      <td>2.0</td>\n",
       "      <td>1.6</td>\n",
       "      <td>6.4</td>\n",
       "      <td>3.2</td>\n",
       "      <td>2.7</td>\n",
       "      <td>2.0</td>\n",
       "      <td>2.8</td>\n",
       "      <td>...</td>\n",
       "      <td>10.6</td>\n",
       "      <td>6.60</td>\n",
       "      <td>8.4</td>\n",
       "      <td>2.88</td>\n",
       "      <td>7.24</td>\n",
       "      <td>4.10</td>\n",
       "      <td>4.00</td>\n",
       "      <td>-119.6</td>\n",
       "      <td>38.3</td>\n",
       "      <td>sierras</td>\n",
       "    </tr>\n",
       "    <tr>\n",
       "      <th>3</th>\n",
       "      <td>02c3ec4a-8de4-4284-9ec1-5a942d3d098e</td>\n",
       "      <td>2013-01-01</td>\n",
       "      <td>2.3</td>\n",
       "      <td>2.0</td>\n",
       "      <td>1.6</td>\n",
       "      <td>3.2</td>\n",
       "      <td>6.4</td>\n",
       "      <td>2.7</td>\n",
       "      <td>2.0</td>\n",
       "      <td>2.8</td>\n",
       "      <td>...</td>\n",
       "      <td>5.9</td>\n",
       "      <td>4.10</td>\n",
       "      <td>4.0</td>\n",
       "      <td>3.40</td>\n",
       "      <td>2.60</td>\n",
       "      <td>2.30</td>\n",
       "      <td>7.20</td>\n",
       "      <td>-107.2</td>\n",
       "      <td>44.6</td>\n",
       "      <td>other</td>\n",
       "    </tr>\n",
       "    <tr>\n",
       "      <th>4</th>\n",
       "      <td>02cf33c2-c8e2-48b9-bf72-92506e97e251</td>\n",
       "      <td>2013-01-01</td>\n",
       "      <td>8.0</td>\n",
       "      <td>2.0</td>\n",
       "      <td>1.6</td>\n",
       "      <td>3.2</td>\n",
       "      <td>6.4</td>\n",
       "      <td>2.7</td>\n",
       "      <td>2.0</td>\n",
       "      <td>2.8</td>\n",
       "      <td>...</td>\n",
       "      <td>5.9</td>\n",
       "      <td>4.10</td>\n",
       "      <td>4.0</td>\n",
       "      <td>3.40</td>\n",
       "      <td>2.60</td>\n",
       "      <td>2.30</td>\n",
       "      <td>10.60</td>\n",
       "      <td>-106.6</td>\n",
       "      <td>40.4</td>\n",
       "      <td>central rockies</td>\n",
       "    </tr>\n",
       "    <tr>\n",
       "      <th>...</th>\n",
       "      <td>...</td>\n",
       "      <td>...</td>\n",
       "      <td>...</td>\n",
       "      <td>...</td>\n",
       "      <td>...</td>\n",
       "      <td>...</td>\n",
       "      <td>...</td>\n",
       "      <td>...</td>\n",
       "      <td>...</td>\n",
       "      <td>...</td>\n",
       "      <td>...</td>\n",
       "      <td>...</td>\n",
       "      <td>...</td>\n",
       "      <td>...</td>\n",
       "      <td>...</td>\n",
       "      <td>...</td>\n",
       "      <td>...</td>\n",
       "      <td>...</td>\n",
       "      <td>...</td>\n",
       "      <td>...</td>\n",
       "      <td>...</td>\n",
       "    </tr>\n",
       "    <tr>\n",
       "      <th>50453</th>\n",
       "      <td>fd4492f2-8aa9-4279-bdc0-73991786943f</td>\n",
       "      <td>2019-12-31</td>\n",
       "      <td>1.3</td>\n",
       "      <td>1.3</td>\n",
       "      <td>2.7</td>\n",
       "      <td>6.7</td>\n",
       "      <td>4.0</td>\n",
       "      <td>2.1</td>\n",
       "      <td>1.5</td>\n",
       "      <td>2.8</td>\n",
       "      <td>...</td>\n",
       "      <td>9.9</td>\n",
       "      <td>5.30</td>\n",
       "      <td>6.9</td>\n",
       "      <td>3.70</td>\n",
       "      <td>3.90</td>\n",
       "      <td>1.50</td>\n",
       "      <td>9.93</td>\n",
       "      <td>-105.1</td>\n",
       "      <td>38.9</td>\n",
       "      <td>central rockies</td>\n",
       "    </tr>\n",
       "    <tr>\n",
       "      <th>50454</th>\n",
       "      <td>fde3221a-9ce3-45a9-857f-bd196b07aa05</td>\n",
       "      <td>2019-12-31</td>\n",
       "      <td>5.6</td>\n",
       "      <td>1.3</td>\n",
       "      <td>2.7</td>\n",
       "      <td>6.7</td>\n",
       "      <td>4.0</td>\n",
       "      <td>2.1</td>\n",
       "      <td>1.5</td>\n",
       "      <td>2.8</td>\n",
       "      <td>...</td>\n",
       "      <td>9.9</td>\n",
       "      <td>5.30</td>\n",
       "      <td>6.9</td>\n",
       "      <td>3.70</td>\n",
       "      <td>3.90</td>\n",
       "      <td>1.50</td>\n",
       "      <td>9.93</td>\n",
       "      <td>-106.1</td>\n",
       "      <td>39.3</td>\n",
       "      <td>central rockies</td>\n",
       "    </tr>\n",
       "    <tr>\n",
       "      <th>50455</th>\n",
       "      <td>fdeb8912-f9d1-445d-aadb-e943534f67fe</td>\n",
       "      <td>2019-12-31</td>\n",
       "      <td>8.8</td>\n",
       "      <td>1.3</td>\n",
       "      <td>2.7</td>\n",
       "      <td>6.7</td>\n",
       "      <td>4.0</td>\n",
       "      <td>2.1</td>\n",
       "      <td>1.5</td>\n",
       "      <td>2.8</td>\n",
       "      <td>...</td>\n",
       "      <td>9.9</td>\n",
       "      <td>5.30</td>\n",
       "      <td>6.9</td>\n",
       "      <td>3.70</td>\n",
       "      <td>9.93</td>\n",
       "      <td>3.90</td>\n",
       "      <td>1.50</td>\n",
       "      <td>-107.9</td>\n",
       "      <td>37.8</td>\n",
       "      <td>central rockies</td>\n",
       "    </tr>\n",
       "    <tr>\n",
       "      <th>50456</th>\n",
       "      <td>fe33672e-7ea7-4c5d-8639-96b2cc7edb0c</td>\n",
       "      <td>2019-12-31</td>\n",
       "      <td>2.9</td>\n",
       "      <td>1.3</td>\n",
       "      <td>2.7</td>\n",
       "      <td>4.0</td>\n",
       "      <td>6.7</td>\n",
       "      <td>2.1</td>\n",
       "      <td>1.5</td>\n",
       "      <td>2.8</td>\n",
       "      <td>...</td>\n",
       "      <td>4.1</td>\n",
       "      <td>9.93</td>\n",
       "      <td>5.3</td>\n",
       "      <td>10.92</td>\n",
       "      <td>6.90</td>\n",
       "      <td>3.70</td>\n",
       "      <td>6.00</td>\n",
       "      <td>-122.0</td>\n",
       "      <td>43.9</td>\n",
       "      <td>other</td>\n",
       "    </tr>\n",
       "    <tr>\n",
       "      <th>50457</th>\n",
       "      <td>ff01e8c2-19a2-4a89-af0e-608b8f40ad5f</td>\n",
       "      <td>2019-12-31</td>\n",
       "      <td>4.7</td>\n",
       "      <td>1.3</td>\n",
       "      <td>2.7</td>\n",
       "      <td>6.7</td>\n",
       "      <td>4.0</td>\n",
       "      <td>2.1</td>\n",
       "      <td>1.5</td>\n",
       "      <td>2.8</td>\n",
       "      <td>...</td>\n",
       "      <td>9.9</td>\n",
       "      <td>5.30</td>\n",
       "      <td>6.9</td>\n",
       "      <td>3.70</td>\n",
       "      <td>3.90</td>\n",
       "      <td>9.93</td>\n",
       "      <td>1.50</td>\n",
       "      <td>-111.4</td>\n",
       "      <td>44.4</td>\n",
       "      <td>other</td>\n",
       "    </tr>\n",
       "  </tbody>\n",
       "</table>\n",
       "<p>50458 rows × 26 columns</p>\n",
       "</div>"
      ],
      "text/plain": [
       "                                    cell_id       dates  value  neighbor_1  \\\n",
       "0      00c4db22-a423-41a4-ada6-a8b1b04153a4  2013-01-01   12.7         2.0   \n",
       "1      018cf1a1-f945-4097-9c47-0c4690538bb5  2013-01-01   20.4         2.0   \n",
       "2      01be2cc7-ef77-4e4d-80ed-c4f8139162c3  2013-01-01   37.0         2.0   \n",
       "3      02c3ec4a-8de4-4284-9ec1-5a942d3d098e  2013-01-01    2.3         2.0   \n",
       "4      02cf33c2-c8e2-48b9-bf72-92506e97e251  2013-01-01    8.0         2.0   \n",
       "...                                     ...         ...    ...         ...   \n",
       "50453  fd4492f2-8aa9-4279-bdc0-73991786943f  2019-12-31    1.3         1.3   \n",
       "50454  fde3221a-9ce3-45a9-857f-bd196b07aa05  2019-12-31    5.6         1.3   \n",
       "50455  fdeb8912-f9d1-445d-aadb-e943534f67fe  2019-12-31    8.8         1.3   \n",
       "50456  fe33672e-7ea7-4c5d-8639-96b2cc7edb0c  2019-12-31    2.9         1.3   \n",
       "50457  ff01e8c2-19a2-4a89-af0e-608b8f40ad5f  2019-12-31    4.7         1.3   \n",
       "\n",
       "       neighbor_2  neighbor_3  neighbor_4  neighbor_5  neighbor_6  neighbor_7  \\\n",
       "0             1.6         6.4         3.2         2.7         2.0         2.8   \n",
       "1             1.6         6.4         3.2         2.7         2.0         2.8   \n",
       "2             1.6         6.4         3.2         2.7         2.0         2.8   \n",
       "3             1.6         3.2         6.4         2.7         2.0         2.8   \n",
       "4             1.6         3.2         6.4         2.7         2.0         2.8   \n",
       "...           ...         ...         ...         ...         ...         ...   \n",
       "50453         2.7         6.7         4.0         2.1         1.5         2.8   \n",
       "50454         2.7         6.7         4.0         2.1         1.5         2.8   \n",
       "50455         2.7         6.7         4.0         2.1         1.5         2.8   \n",
       "50456         2.7         4.0         6.7         2.1         1.5         2.8   \n",
       "50457         2.7         6.7         4.0         2.1         1.5         2.8   \n",
       "\n",
       "       ...  neighbor_14  neighbor_15  neighbor_16  neighbor_17  neighbor_18  \\\n",
       "0      ...          6.6        10.60          8.4         2.88         4.10   \n",
       "1      ...         10.6         6.60          8.4         2.88         4.10   \n",
       "2      ...         10.6         6.60          8.4         2.88         7.24   \n",
       "3      ...          5.9         4.10          4.0         3.40         2.60   \n",
       "4      ...          5.9         4.10          4.0         3.40         2.60   \n",
       "...    ...          ...          ...          ...          ...          ...   \n",
       "50453  ...          9.9         5.30          6.9         3.70         3.90   \n",
       "50454  ...          9.9         5.30          6.9         3.70         3.90   \n",
       "50455  ...          9.9         5.30          6.9         3.70         9.93   \n",
       "50456  ...          4.1         9.93          5.3        10.92         6.90   \n",
       "50457  ...          9.9         5.30          6.9         3.70         3.90   \n",
       "\n",
       "       neighbor_19  neighbor_20  latitude  longitude           region  \n",
       "0             7.24         4.00    -121.9       41.2            other  \n",
       "1             7.24         4.00    -120.6       39.7          sierras  \n",
       "2             4.10         4.00    -119.6       38.3          sierras  \n",
       "3             2.30         7.20    -107.2       44.6            other  \n",
       "4             2.30        10.60    -106.6       40.4  central rockies  \n",
       "...            ...          ...       ...        ...              ...  \n",
       "50453         1.50         9.93    -105.1       38.9  central rockies  \n",
       "50454         1.50         9.93    -106.1       39.3  central rockies  \n",
       "50455         3.90         1.50    -107.9       37.8  central rockies  \n",
       "50456         3.70         6.00    -122.0       43.9            other  \n",
       "50457         9.93         1.50    -111.4       44.4            other  \n",
       "\n",
       "[50458 rows x 26 columns]"
      ]
     },
     "execution_count": 32,
     "metadata": {},
     "output_type": "execute_result"
    }
   ],
   "source": [
    "df_train = pd.read_csv('../data/train_labels_final.csv')\n",
    "df_train = df_train.drop('Unnamed: 0',axis=1)\n",
    "df_train"
   ]
  },
  {
   "cell_type": "code",
   "execution_count": 35,
   "metadata": {
    "ExecuteTime": {
     "end_time": "2022-05-25T02:46:17.450925Z",
     "start_time": "2022-05-25T02:46:17.362803Z"
    }
   },
   "outputs": [
    {
     "name": "stdout",
     "output_type": "stream",
     "text": [
      "<class 'pandas.core.frame.DataFrame'>\n",
      "RangeIndex: 50458 entries, 0 to 50457\n",
      "Data columns (total 26 columns):\n",
      " #   Column       Non-Null Count  Dtype  \n",
      "---  ------       --------------  -----  \n",
      " 0   cell_id      50458 non-null  object \n",
      " 1   dates        50458 non-null  object \n",
      " 2   value        50458 non-null  float64\n",
      " 3   neighbor_1   50458 non-null  float64\n",
      " 4   neighbor_2   50458 non-null  float64\n",
      " 5   neighbor_3   50458 non-null  float64\n",
      " 6   neighbor_4   50458 non-null  float64\n",
      " 7   neighbor_5   50458 non-null  float64\n",
      " 8   neighbor_6   50458 non-null  float64\n",
      " 9   neighbor_7   50458 non-null  float64\n",
      " 10  neighbor_8   42424 non-null  float64\n",
      " 11  neighbor_9   43759 non-null  float64\n",
      " 12  neighbor_10  47152 non-null  float64\n",
      " 13  neighbor_11  49849 non-null  float64\n",
      " 14  neighbor_12  50458 non-null  float64\n",
      " 15  neighbor_13  50458 non-null  float64\n",
      " 16  neighbor_14  50458 non-null  float64\n",
      " 17  neighbor_15  50458 non-null  float64\n",
      " 18  neighbor_16  50458 non-null  float64\n",
      " 19  neighbor_17  50458 non-null  float64\n",
      " 20  neighbor_18  50458 non-null  float64\n",
      " 21  neighbor_19  50458 non-null  float64\n",
      " 22  neighbor_20  50458 non-null  float64\n",
      " 23  latitude     50458 non-null  float64\n",
      " 24  longitude    50458 non-null  float64\n",
      " 25  region       50458 non-null  object \n",
      "dtypes: float64(23), object(3)\n",
      "memory usage: 10.0+ MB\n"
     ]
    }
   ],
   "source": [
    "#Make sure our data types is correct\n",
    "df_train.info()"
   ]
  },
  {
   "cell_type": "code",
   "execution_count": 54,
   "metadata": {
    "ExecuteTime": {
     "end_time": "2022-05-25T22:14:24.486491Z",
     "start_time": "2022-05-25T22:14:24.432169Z"
    },
    "scrolled": true
   },
   "outputs": [
    {
     "data": {
      "text/plain": [
       "cell_id        0.000000\n",
       "dates          0.000000\n",
       "value          0.000000\n",
       "neighbor_1     0.000000\n",
       "neighbor_2     0.000000\n",
       "neighbor_3     0.000000\n",
       "neighbor_4     0.000000\n",
       "neighbor_5     0.000000\n",
       "neighbor_6     0.000000\n",
       "neighbor_7     0.000000\n",
       "neighbor_8     0.159222\n",
       "neighbor_9     0.132764\n",
       "neighbor_10    0.065520\n",
       "neighbor_11    0.012069\n",
       "neighbor_12    0.000000\n",
       "neighbor_13    0.000000\n",
       "neighbor_14    0.000000\n",
       "neighbor_15    0.000000\n",
       "neighbor_16    0.000000\n",
       "neighbor_17    0.000000\n",
       "neighbor_18    0.000000\n",
       "neighbor_19    0.000000\n",
       "neighbor_20    0.000000\n",
       "latitude       0.000000\n",
       "longitude      0.000000\n",
       "region         0.000000\n",
       "dtype: float64"
      ]
     },
     "execution_count": 54,
     "metadata": {},
     "output_type": "execute_result"
    }
   ],
   "source": [
    "df_train.isna().sum()/len(df_train)"
   ]
  },
  {
   "cell_type": "markdown",
   "metadata": {},
   "source": [
    "## Train-test-split"
   ]
  },
  {
   "cell_type": "markdown",
   "metadata": {},
   "source": [
    "Let's do our train-test-split before we begin to build our pipelines."
   ]
  },
  {
   "cell_type": "code",
   "execution_count": 33,
   "metadata": {
    "ExecuteTime": {
     "end_time": "2022-05-25T02:36:59.695769Z",
     "start_time": "2022-05-25T02:36:59.671810Z"
    }
   },
   "outputs": [],
   "source": [
    "X_train = df_train.drop(['cell_id','dates','value'],axis=1)\n",
    "y_train = df_train['value']\n",
    "\n",
    "# X_train, X_test, y_train, y_test = train_test_split(X, y, random_state=42)"
   ]
  },
  {
   "cell_type": "markdown",
   "metadata": {},
   "source": [
    "## Modeling EDA"
   ]
  },
  {
   "cell_type": "code",
   "execution_count": 34,
   "metadata": {
    "ExecuteTime": {
     "end_time": "2022-05-25T02:37:03.720591Z",
     "start_time": "2022-05-25T02:37:00.342035Z"
    }
   },
   "outputs": [
    {
     "data": {
      "text/plain": [
       "<AxesSubplot:>"
      ]
     },
     "execution_count": 34,
     "metadata": {},
     "output_type": "execute_result"
    },
    {
     "data": {
      "image/png": "[encoded data removed]",
      "text/plain": [
       "<Figure size 1080x1080 with 2 Axes>"
      ]
     },
     "metadata": {
      "needs_background": "light"
     },
     "output_type": "display_data"
    }
   ],
   "source": [
    "fig, ax = plt.subplots(figsize = (15,15))\n",
    "\n",
    "sns.heatmap(abs(X_train.corr()),annot=True, ax=ax)"
   ]
  },
  {
   "cell_type": "markdown",
   "metadata": {
    "ExecuteTime": {
     "end_time": "2022-05-25T02:04:39.428778Z",
     "start_time": "2022-05-25T02:04:39.300765Z"
    }
   },
   "source": [
    "It seems like our top 13 nearest neighbors of ground measured stations are highly correlated. This is possibly because top 13 nearest stations to the grid cell is also near to each other in distance and therefore, the SWE values of the top 13 nearest neighbors are correlated to each other by distance. To reduce the multicollinearity between these stations, we can perform PCA on the first 13 neighbors as part of our pipeline."
   ]
  },
  {
   "cell_type": "markdown",
   "metadata": {},
   "source": [
    "## Modeling Building"
   ]
  },
  {
   "cell_type": "markdown",
   "metadata": {},
   "source": [
    "We are going to begin our model testing with our training data. We will be using pipelines functions, and Function transformers to smooth our model building process and ensure no data leakage takes place in our workflow."
   ]
  },
  {
   "cell_type": "markdown",
   "metadata": {},
   "source": [
    "### Functions"
   ]
  },
  {
   "cell_type": "code",
   "execution_count": 36,
   "metadata": {
    "ExecuteTime": {
     "end_time": "2022-05-25T02:47:23.440468Z",
     "start_time": "2022-05-25T02:47:23.421321Z"
    }
   },
   "outputs": [],
   "source": [
    "def grab_numeric(df):\n",
    "    \n",
    "    \"\"\"\n",
    "    Helper function to grab only numeric columns from our dataframe.\n",
    "    \"\"\"\n",
    "    return df.select_dtypes(include=['float', 'int'])"
   ]
  },
  {
   "cell_type": "code",
   "execution_count": 37,
   "metadata": {
    "ExecuteTime": {
     "end_time": "2022-05-25T02:47:24.029080Z",
     "start_time": "2022-05-25T02:47:24.011820Z"
    }
   },
   "outputs": [],
   "source": [
    "def grab_object(df):\n",
    "    \n",
    "    \"\"\"\n",
    "    Helper function to grab only categorical columns from our dataframe.\n",
    "    \"\"\"\n",
    "    \n",
    "    return df.select_dtypes(include=['object'])"
   ]
  },
  {
   "cell_type": "code",
   "execution_count": 79,
   "metadata": {
    "ExecuteTime": {
     "end_time": "2022-05-25T23:09:59.244243Z",
     "start_time": "2022-05-25T23:09:59.218311Z"
    }
   },
   "outputs": [],
   "source": [
    "class ModelWithCV():\n",
    "    '''Structure to save the model and more easily see its crossvalidation'''\n",
    "    \n",
    "    def __init__(self, model, model_name, X, y, cv_now=True):\n",
    "        self.model = model\n",
    "        self.name = model_name\n",
    "        self.X = X\n",
    "        self.y = y\n",
    "        # For CV results\n",
    "        self.cv_results = None\n",
    "        self.cv_mean = None\n",
    "        self.cv_median = None\n",
    "        self.cv_std = None\n",
    "        #\n",
    "        if cv_now:\n",
    "            self.cross_validate()\n",
    "        \n",
    "    def cross_validate(self, X=None, y=None, kfolds=5):\n",
    "        '''\n",
    "        Perform cross-validation and return results.\n",
    "        \n",
    "        Args: \n",
    "          X:\n",
    "            Optional; Training data to perform CV on. Otherwise use X from object\n",
    "          y:\n",
    "            Optional; Training data to perform CV on. Otherwise use y from object\n",
    "          kfolds:\n",
    "            Optional; Number of folds for CV (default is 10)  \n",
    "        '''\n",
    "        \n",
    "        cv_X = X if X else self.X\n",
    "        cv_y = y if y else self.y\n",
    "\n",
    "        self.cv_results = cross_val_score(self.model, cv_X, cv_y, cv=kfolds)\n",
    "        self.cv_mean = np.mean(self.cv_results)\n",
    "        self.cv_median = np.median(self.cv_results)\n",
    "        self.cv_std = np.std(self.cv_results)\n",
    "\n",
    "        \n",
    "    def print_cv_summary(self):\n",
    "        cv_summary = (\n",
    "        f'''CV Results for `{self.name}` model:\n",
    "            {self.cv_mean:.5f} ± {self.cv_std:.5f} R_squared\n",
    "        ''')\n",
    "        print(cv_summary)\n",
    "\n",
    "        \n",
    "    def plot_cv(self, ax):\n",
    "        '''\n",
    "        Plot the cross-validation values using the array of results and given \n",
    "        Axis for plotting.\n",
    "        '''\n",
    "        ax.set_title(f'CV Results for `{self.name}` Model')\n",
    "        # Thinner violinplot with higher bw\n",
    "        sns.violinplot(y=self.cv_results, ax=ax, bw=.4)\n",
    "        sns.swarmplot(\n",
    "                y=self.cv_results,\n",
    "                color='orange',\n",
    "                size=10,\n",
    "                alpha= 0.8,\n",
    "                ax=ax\n",
    "        )\n",
    "\n",
    "        return ax"
   ]
  },
  {
   "cell_type": "markdown",
   "metadata": {},
   "source": [
    "Some of these models take a very long time to run. The function below will pickle the models we have to [pickled_models](link)."
   ]
  },
  {
   "cell_type": "code",
   "execution_count": 40,
   "metadata": {
    "ExecuteTime": {
     "end_time": "2022-05-25T20:26:18.067332Z",
     "start_time": "2022-05-25T20:26:18.049290Z"
    }
   },
   "outputs": [],
   "source": [
    "def pickle_model (model,model_file_name):\n",
    "    \n",
    "    \"\"\"\n",
    "    This helper function takes in your model and save it under modelname, in a folder parallel to the parent director called\n",
    "    pickled_models.\n",
    "    \n",
    "    model: the model to save.\n",
    "    model_file_name: (str) file name to save the model as. \n",
    "    \"\"\"\n",
    "    print (f'Saving model as {model_file_name}...')\n",
    "    pickle.dump(model,open(f'./pickled_models/{model_file_name}.sav','wb'))\n",
    "    print(f'{model_file_name} succesfully saved.')\n",
    "           \n",
    "    \n",
    "    "
   ]
  },
  {
   "cell_type": "code",
   "execution_count": 41,
   "metadata": {
    "ExecuteTime": {
     "end_time": "2022-05-25T20:26:19.482075Z",
     "start_time": "2022-05-25T20:26:19.444527Z"
    }
   },
   "outputs": [],
   "source": [
    "def load_pickle(fullfilepath):\n",
    "    \n",
    "    file = open(fullfilepath,'rb')\n",
    "    object_file = pickle.load(file)\n",
    "    file.close()\n",
    "    \n",
    "    return object_file"
   ]
  },
  {
   "cell_type": "markdown",
   "metadata": {},
   "source": [
    "#### Testing functions"
   ]
  },
  {
   "cell_type": "code",
   "execution_count": 43,
   "metadata": {
    "ExecuteTime": {
     "end_time": "2022-05-25T20:26:23.901978Z",
     "start_time": "2022-05-25T20:26:23.832165Z"
    }
   },
   "outputs": [
    {
     "data": {
      "text/html": [
       "<div>\n",
       "<style scoped>\n",
       "    .dataframe tbody tr th:only-of-type {\n",
       "        vertical-align: middle;\n",
       "    }\n",
       "\n",
       "    .dataframe tbody tr th {\n",
       "        vertical-align: top;\n",
       "    }\n",
       "\n",
       "    .dataframe thead th {\n",
       "        text-align: right;\n",
       "    }\n",
       "</style>\n",
       "<table border=\"1\" class=\"dataframe\">\n",
       "  <thead>\n",
       "    <tr style=\"text-align: right;\">\n",
       "      <th></th>\n",
       "      <th>value</th>\n",
       "      <th>neighbor_1</th>\n",
       "      <th>neighbor_2</th>\n",
       "      <th>neighbor_3</th>\n",
       "      <th>neighbor_4</th>\n",
       "      <th>neighbor_5</th>\n",
       "      <th>neighbor_6</th>\n",
       "      <th>neighbor_7</th>\n",
       "      <th>neighbor_8</th>\n",
       "      <th>neighbor_9</th>\n",
       "      <th>...</th>\n",
       "      <th>neighbor_13</th>\n",
       "      <th>neighbor_14</th>\n",
       "      <th>neighbor_15</th>\n",
       "      <th>neighbor_16</th>\n",
       "      <th>neighbor_17</th>\n",
       "      <th>neighbor_18</th>\n",
       "      <th>neighbor_19</th>\n",
       "      <th>neighbor_20</th>\n",
       "      <th>latitude</th>\n",
       "      <th>longitude</th>\n",
       "    </tr>\n",
       "  </thead>\n",
       "  <tbody>\n",
       "    <tr>\n",
       "      <th>0</th>\n",
       "      <td>12.7</td>\n",
       "      <td>2.0</td>\n",
       "      <td>1.6</td>\n",
       "      <td>6.4</td>\n",
       "      <td>3.2</td>\n",
       "      <td>2.7</td>\n",
       "      <td>2.0</td>\n",
       "      <td>2.8</td>\n",
       "      <td>NaN</td>\n",
       "      <td>3.7</td>\n",
       "      <td>...</td>\n",
       "      <td>5.9</td>\n",
       "      <td>6.6</td>\n",
       "      <td>10.60</td>\n",
       "      <td>8.4</td>\n",
       "      <td>2.88</td>\n",
       "      <td>4.10</td>\n",
       "      <td>7.24</td>\n",
       "      <td>4.00</td>\n",
       "      <td>-121.9</td>\n",
       "      <td>41.2</td>\n",
       "    </tr>\n",
       "    <tr>\n",
       "      <th>1</th>\n",
       "      <td>20.4</td>\n",
       "      <td>2.0</td>\n",
       "      <td>1.6</td>\n",
       "      <td>6.4</td>\n",
       "      <td>3.2</td>\n",
       "      <td>2.7</td>\n",
       "      <td>2.0</td>\n",
       "      <td>2.8</td>\n",
       "      <td>NaN</td>\n",
       "      <td>3.7</td>\n",
       "      <td>...</td>\n",
       "      <td>5.9</td>\n",
       "      <td>10.6</td>\n",
       "      <td>6.60</td>\n",
       "      <td>8.4</td>\n",
       "      <td>2.88</td>\n",
       "      <td>4.10</td>\n",
       "      <td>7.24</td>\n",
       "      <td>4.00</td>\n",
       "      <td>-120.6</td>\n",
       "      <td>39.7</td>\n",
       "    </tr>\n",
       "    <tr>\n",
       "      <th>2</th>\n",
       "      <td>37.0</td>\n",
       "      <td>2.0</td>\n",
       "      <td>1.6</td>\n",
       "      <td>6.4</td>\n",
       "      <td>3.2</td>\n",
       "      <td>2.7</td>\n",
       "      <td>2.0</td>\n",
       "      <td>2.8</td>\n",
       "      <td>NaN</td>\n",
       "      <td>3.7</td>\n",
       "      <td>...</td>\n",
       "      <td>5.9</td>\n",
       "      <td>10.6</td>\n",
       "      <td>6.60</td>\n",
       "      <td>8.4</td>\n",
       "      <td>2.88</td>\n",
       "      <td>7.24</td>\n",
       "      <td>4.10</td>\n",
       "      <td>4.00</td>\n",
       "      <td>-119.6</td>\n",
       "      <td>38.3</td>\n",
       "    </tr>\n",
       "    <tr>\n",
       "      <th>3</th>\n",
       "      <td>2.3</td>\n",
       "      <td>2.0</td>\n",
       "      <td>1.6</td>\n",
       "      <td>3.2</td>\n",
       "      <td>6.4</td>\n",
       "      <td>2.7</td>\n",
       "      <td>2.0</td>\n",
       "      <td>2.8</td>\n",
       "      <td>6.6</td>\n",
       "      <td>3.7</td>\n",
       "      <td>...</td>\n",
       "      <td>4.3</td>\n",
       "      <td>5.9</td>\n",
       "      <td>4.10</td>\n",
       "      <td>4.0</td>\n",
       "      <td>3.40</td>\n",
       "      <td>2.60</td>\n",
       "      <td>2.30</td>\n",
       "      <td>7.20</td>\n",
       "      <td>-107.2</td>\n",
       "      <td>44.6</td>\n",
       "    </tr>\n",
       "    <tr>\n",
       "      <th>4</th>\n",
       "      <td>8.0</td>\n",
       "      <td>2.0</td>\n",
       "      <td>1.6</td>\n",
       "      <td>3.2</td>\n",
       "      <td>6.4</td>\n",
       "      <td>2.7</td>\n",
       "      <td>2.0</td>\n",
       "      <td>2.8</td>\n",
       "      <td>6.6</td>\n",
       "      <td>3.7</td>\n",
       "      <td>...</td>\n",
       "      <td>4.3</td>\n",
       "      <td>5.9</td>\n",
       "      <td>4.10</td>\n",
       "      <td>4.0</td>\n",
       "      <td>3.40</td>\n",
       "      <td>2.60</td>\n",
       "      <td>2.30</td>\n",
       "      <td>10.60</td>\n",
       "      <td>-106.6</td>\n",
       "      <td>40.4</td>\n",
       "    </tr>\n",
       "    <tr>\n",
       "      <th>...</th>\n",
       "      <td>...</td>\n",
       "      <td>...</td>\n",
       "      <td>...</td>\n",
       "      <td>...</td>\n",
       "      <td>...</td>\n",
       "      <td>...</td>\n",
       "      <td>...</td>\n",
       "      <td>...</td>\n",
       "      <td>...</td>\n",
       "      <td>...</td>\n",
       "      <td>...</td>\n",
       "      <td>...</td>\n",
       "      <td>...</td>\n",
       "      <td>...</td>\n",
       "      <td>...</td>\n",
       "      <td>...</td>\n",
       "      <td>...</td>\n",
       "      <td>...</td>\n",
       "      <td>...</td>\n",
       "      <td>...</td>\n",
       "      <td>...</td>\n",
       "    </tr>\n",
       "    <tr>\n",
       "      <th>50453</th>\n",
       "      <td>1.3</td>\n",
       "      <td>1.3</td>\n",
       "      <td>2.7</td>\n",
       "      <td>6.7</td>\n",
       "      <td>4.0</td>\n",
       "      <td>2.1</td>\n",
       "      <td>1.5</td>\n",
       "      <td>2.8</td>\n",
       "      <td>4.1</td>\n",
       "      <td>6.1</td>\n",
       "      <td>...</td>\n",
       "      <td>5.5</td>\n",
       "      <td>9.9</td>\n",
       "      <td>5.30</td>\n",
       "      <td>6.9</td>\n",
       "      <td>3.70</td>\n",
       "      <td>3.90</td>\n",
       "      <td>1.50</td>\n",
       "      <td>9.93</td>\n",
       "      <td>-105.1</td>\n",
       "      <td>38.9</td>\n",
       "    </tr>\n",
       "    <tr>\n",
       "      <th>50454</th>\n",
       "      <td>5.6</td>\n",
       "      <td>1.3</td>\n",
       "      <td>2.7</td>\n",
       "      <td>6.7</td>\n",
       "      <td>4.0</td>\n",
       "      <td>2.1</td>\n",
       "      <td>1.5</td>\n",
       "      <td>2.8</td>\n",
       "      <td>4.1</td>\n",
       "      <td>6.1</td>\n",
       "      <td>...</td>\n",
       "      <td>5.5</td>\n",
       "      <td>9.9</td>\n",
       "      <td>5.30</td>\n",
       "      <td>6.9</td>\n",
       "      <td>3.70</td>\n",
       "      <td>3.90</td>\n",
       "      <td>1.50</td>\n",
       "      <td>9.93</td>\n",
       "      <td>-106.1</td>\n",
       "      <td>39.3</td>\n",
       "    </tr>\n",
       "    <tr>\n",
       "      <th>50455</th>\n",
       "      <td>8.8</td>\n",
       "      <td>1.3</td>\n",
       "      <td>2.7</td>\n",
       "      <td>6.7</td>\n",
       "      <td>4.0</td>\n",
       "      <td>2.1</td>\n",
       "      <td>1.5</td>\n",
       "      <td>2.8</td>\n",
       "      <td>6.1</td>\n",
       "      <td>7.1</td>\n",
       "      <td>...</td>\n",
       "      <td>5.5</td>\n",
       "      <td>9.9</td>\n",
       "      <td>5.30</td>\n",
       "      <td>6.9</td>\n",
       "      <td>3.70</td>\n",
       "      <td>9.93</td>\n",
       "      <td>3.90</td>\n",
       "      <td>1.50</td>\n",
       "      <td>-107.9</td>\n",
       "      <td>37.8</td>\n",
       "    </tr>\n",
       "    <tr>\n",
       "      <th>50456</th>\n",
       "      <td>2.9</td>\n",
       "      <td>1.3</td>\n",
       "      <td>2.7</td>\n",
       "      <td>4.0</td>\n",
       "      <td>6.7</td>\n",
       "      <td>2.1</td>\n",
       "      <td>1.5</td>\n",
       "      <td>2.8</td>\n",
       "      <td>7.1</td>\n",
       "      <td>6.1</td>\n",
       "      <td>...</td>\n",
       "      <td>9.9</td>\n",
       "      <td>4.1</td>\n",
       "      <td>9.93</td>\n",
       "      <td>5.3</td>\n",
       "      <td>10.92</td>\n",
       "      <td>6.90</td>\n",
       "      <td>3.70</td>\n",
       "      <td>6.00</td>\n",
       "      <td>-122.0</td>\n",
       "      <td>43.9</td>\n",
       "    </tr>\n",
       "    <tr>\n",
       "      <th>50457</th>\n",
       "      <td>4.7</td>\n",
       "      <td>1.3</td>\n",
       "      <td>2.7</td>\n",
       "      <td>6.7</td>\n",
       "      <td>4.0</td>\n",
       "      <td>2.1</td>\n",
       "      <td>1.5</td>\n",
       "      <td>2.8</td>\n",
       "      <td>6.1</td>\n",
       "      <td>7.1</td>\n",
       "      <td>...</td>\n",
       "      <td>5.5</td>\n",
       "      <td>9.9</td>\n",
       "      <td>5.30</td>\n",
       "      <td>6.9</td>\n",
       "      <td>3.70</td>\n",
       "      <td>3.90</td>\n",
       "      <td>9.93</td>\n",
       "      <td>1.50</td>\n",
       "      <td>-111.4</td>\n",
       "      <td>44.4</td>\n",
       "    </tr>\n",
       "  </tbody>\n",
       "</table>\n",
       "<p>50458 rows × 23 columns</p>\n",
       "</div>"
      ],
      "text/plain": [
       "       value  neighbor_1  neighbor_2  neighbor_3  neighbor_4  neighbor_5  \\\n",
       "0       12.7         2.0         1.6         6.4         3.2         2.7   \n",
       "1       20.4         2.0         1.6         6.4         3.2         2.7   \n",
       "2       37.0         2.0         1.6         6.4         3.2         2.7   \n",
       "3        2.3         2.0         1.6         3.2         6.4         2.7   \n",
       "4        8.0         2.0         1.6         3.2         6.4         2.7   \n",
       "...      ...         ...         ...         ...         ...         ...   \n",
       "50453    1.3         1.3         2.7         6.7         4.0         2.1   \n",
       "50454    5.6         1.3         2.7         6.7         4.0         2.1   \n",
       "50455    8.8         1.3         2.7         6.7         4.0         2.1   \n",
       "50456    2.9         1.3         2.7         4.0         6.7         2.1   \n",
       "50457    4.7         1.3         2.7         6.7         4.0         2.1   \n",
       "\n",
       "       neighbor_6  neighbor_7  neighbor_8  neighbor_9  ...  neighbor_13  \\\n",
       "0             2.0         2.8         NaN         3.7  ...          5.9   \n",
       "1             2.0         2.8         NaN         3.7  ...          5.9   \n",
       "2             2.0         2.8         NaN         3.7  ...          5.9   \n",
       "3             2.0         2.8         6.6         3.7  ...          4.3   \n",
       "4             2.0         2.8         6.6         3.7  ...          4.3   \n",
       "...           ...         ...         ...         ...  ...          ...   \n",
       "50453         1.5         2.8         4.1         6.1  ...          5.5   \n",
       "50454         1.5         2.8         4.1         6.1  ...          5.5   \n",
       "50455         1.5         2.8         6.1         7.1  ...          5.5   \n",
       "50456         1.5         2.8         7.1         6.1  ...          9.9   \n",
       "50457         1.5         2.8         6.1         7.1  ...          5.5   \n",
       "\n",
       "       neighbor_14  neighbor_15  neighbor_16  neighbor_17  neighbor_18  \\\n",
       "0              6.6        10.60          8.4         2.88         4.10   \n",
       "1             10.6         6.60          8.4         2.88         4.10   \n",
       "2             10.6         6.60          8.4         2.88         7.24   \n",
       "3              5.9         4.10          4.0         3.40         2.60   \n",
       "4              5.9         4.10          4.0         3.40         2.60   \n",
       "...            ...          ...          ...          ...          ...   \n",
       "50453          9.9         5.30          6.9         3.70         3.90   \n",
       "50454          9.9         5.30          6.9         3.70         3.90   \n",
       "50455          9.9         5.30          6.9         3.70         9.93   \n",
       "50456          4.1         9.93          5.3        10.92         6.90   \n",
       "50457          9.9         5.30          6.9         3.70         3.90   \n",
       "\n",
       "       neighbor_19  neighbor_20  latitude  longitude  \n",
       "0             7.24         4.00    -121.9       41.2  \n",
       "1             7.24         4.00    -120.6       39.7  \n",
       "2             4.10         4.00    -119.6       38.3  \n",
       "3             2.30         7.20    -107.2       44.6  \n",
       "4             2.30        10.60    -106.6       40.4  \n",
       "...            ...          ...       ...        ...  \n",
       "50453         1.50         9.93    -105.1       38.9  \n",
       "50454         1.50         9.93    -106.1       39.3  \n",
       "50455         3.90         1.50    -107.9       37.8  \n",
       "50456         3.70         6.00    -122.0       43.9  \n",
       "50457         9.93         1.50    -111.4       44.4  \n",
       "\n",
       "[50458 rows x 23 columns]"
      ]
     },
     "execution_count": 43,
     "metadata": {},
     "output_type": "execute_result"
    }
   ],
   "source": [
    "#Sniff test, ensuring function outputs what we want\n",
    "\n",
    "num_df=grab_numeric(df_train)\n",
    "num_df"
   ]
  },
  {
   "cell_type": "code",
   "execution_count": 44,
   "metadata": {
    "ExecuteTime": {
     "end_time": "2022-05-25T20:29:04.545255Z",
     "start_time": "2022-05-25T20:29:04.517329Z"
    },
    "scrolled": true
   },
   "outputs": [
    {
     "data": {
      "text/html": [
       "<div>\n",
       "<style scoped>\n",
       "    .dataframe tbody tr th:only-of-type {\n",
       "        vertical-align: middle;\n",
       "    }\n",
       "\n",
       "    .dataframe tbody tr th {\n",
       "        vertical-align: top;\n",
       "    }\n",
       "\n",
       "    .dataframe thead th {\n",
       "        text-align: right;\n",
       "    }\n",
       "</style>\n",
       "<table border=\"1\" class=\"dataframe\">\n",
       "  <thead>\n",
       "    <tr style=\"text-align: right;\">\n",
       "      <th></th>\n",
       "      <th>cell_id</th>\n",
       "      <th>dates</th>\n",
       "      <th>region</th>\n",
       "    </tr>\n",
       "  </thead>\n",
       "  <tbody>\n",
       "    <tr>\n",
       "      <th>0</th>\n",
       "      <td>00c4db22-a423-41a4-ada6-a8b1b04153a4</td>\n",
       "      <td>2013-01-01</td>\n",
       "      <td>other</td>\n",
       "    </tr>\n",
       "    <tr>\n",
       "      <th>1</th>\n",
       "      <td>018cf1a1-f945-4097-9c47-0c4690538bb5</td>\n",
       "      <td>2013-01-01</td>\n",
       "      <td>sierras</td>\n",
       "    </tr>\n",
       "    <tr>\n",
       "      <th>2</th>\n",
       "      <td>01be2cc7-ef77-4e4d-80ed-c4f8139162c3</td>\n",
       "      <td>2013-01-01</td>\n",
       "      <td>sierras</td>\n",
       "    </tr>\n",
       "    <tr>\n",
       "      <th>3</th>\n",
       "      <td>02c3ec4a-8de4-4284-9ec1-5a942d3d098e</td>\n",
       "      <td>2013-01-01</td>\n",
       "      <td>other</td>\n",
       "    </tr>\n",
       "    <tr>\n",
       "      <th>4</th>\n",
       "      <td>02cf33c2-c8e2-48b9-bf72-92506e97e251</td>\n",
       "      <td>2013-01-01</td>\n",
       "      <td>central rockies</td>\n",
       "    </tr>\n",
       "  </tbody>\n",
       "</table>\n",
       "</div>"
      ],
      "text/plain": [
       "                                cell_id       dates           region\n",
       "0  00c4db22-a423-41a4-ada6-a8b1b04153a4  2013-01-01            other\n",
       "1  018cf1a1-f945-4097-9c47-0c4690538bb5  2013-01-01          sierras\n",
       "2  01be2cc7-ef77-4e4d-80ed-c4f8139162c3  2013-01-01          sierras\n",
       "3  02c3ec4a-8de4-4284-9ec1-5a942d3d098e  2013-01-01            other\n",
       "4  02cf33c2-c8e2-48b9-bf72-92506e97e251  2013-01-01  central rockies"
      ]
     },
     "execution_count": 44,
     "metadata": {},
     "output_type": "execute_result"
    }
   ],
   "source": [
    "#Sniff test, ensuring function outputs what we want\n",
    "\n",
    "cat_df = grab_object(df_train)\n",
    "cat_df.head()"
   ]
  },
  {
   "cell_type": "markdown",
   "metadata": {},
   "source": [
    "#### Building function transformers"
   ]
  },
  {
   "cell_type": "code",
   "execution_count": 48,
   "metadata": {
    "ExecuteTime": {
     "end_time": "2022-05-25T20:36:10.310529Z",
     "start_time": "2022-05-25T20:36:10.299121Z"
    }
   },
   "outputs": [],
   "source": [
    "GrabNumeric = FunctionTransformer(grab_numeric)\n",
    "GrabObject = FunctionTransformer(grab_object)"
   ]
  },
  {
   "cell_type": "markdown",
   "metadata": {},
   "source": [
    "### Building `subpipelines` and `Column Transformer`"
   ]
  },
  {
   "cell_type": "code",
   "execution_count": 83,
   "metadata": {
    "ExecuteTime": {
     "end_time": "2022-05-26T00:23:37.510524Z",
     "start_time": "2022-05-26T00:23:37.490578Z"
    }
   },
   "outputs": [],
   "source": [
    "# We'll throw these mini-pipelines into our ColumnTransformer: numeric and categorical\n",
    "\n",
    "subpipe_num_imputed= Pipeline(steps=[('get_num', GrabNumeric),\n",
    "                              ('ss', StandardScaler()),\n",
    "                              ('num_impute', IterativeImputer(skip_complete=True,random_state=250))\n",
    "                             ])\n",
    "\n",
    "subpipe_num = Pipeline(steps=[('get_num', GrabNumeric),\n",
    "                              ('ss', StandardScaler())\n",
    "                             ])\n",
    "\n",
    "\n",
    "subpipe_cat = Pipeline(steps=[('get_obj', GrabObject),\n",
    "                              ('ohe', OneHotEncoder(sparse=False, handle_unknown='ignore'))\n",
    "                              ])"
   ]
  },
  {
   "cell_type": "code",
   "execution_count": 84,
   "metadata": {
    "ExecuteTime": {
     "end_time": "2022-05-26T00:24:59.796836Z",
     "start_time": "2022-05-26T00:24:59.772566Z"
    }
   },
   "outputs": [],
   "source": [
    "ct = ColumnTransformer(transformers = [\n",
    "    ('subpipe_num', subpipe_num, X_train.columns),\n",
    "    ('subpipe_cat', subpipe_cat, X_train.columns)\n",
    "])\n",
    "\n",
    "ct_imputed = ColumnTransformer(transformers = [\n",
    "    ('subpipe_num_imputed', subpipe_num_imputed, X_train.columns),\n",
    "    ('subpipe_cat', subpipe_cat, X_train.columns)\n",
    "])\n"
   ]
  },
  {
   "cell_type": "markdown",
   "metadata": {},
   "source": [
    "### Dummy Model"
   ]
  },
  {
   "cell_type": "code",
   "execution_count": 85,
   "metadata": {
    "ExecuteTime": {
     "end_time": "2022-05-26T00:25:11.842422Z",
     "start_time": "2022-05-26T00:25:09.924268Z"
    }
   },
   "outputs": [],
   "source": [
    "#Build a dummy model pipeline\n",
    "\n",
    "dummy_model_pipe = Pipeline(steps=[\n",
    "    ('ct_imputed',ct_imputed),\n",
    "    ('dummy_mod',DummyRegressor())\n",
    "])\n",
    "\n",
    "dummy_model = dummy_model_pipe.fit(X_train,y_train)"
   ]
  },
  {
   "cell_type": "code",
   "execution_count": 86,
   "metadata": {
    "ExecuteTime": {
     "end_time": "2022-05-26T00:25:12.634388Z",
     "start_time": "2022-05-26T00:25:12.424870Z"
    }
   },
   "outputs": [
    {
     "data": {
      "text/plain": [
       "0.0"
      ]
     },
     "execution_count": 86,
     "metadata": {},
     "output_type": "execute_result"
    }
   ],
   "source": [
    "dummy_model.score(X_train,y_train)"
   ]
  },
  {
   "cell_type": "code",
   "execution_count": 87,
   "metadata": {
    "ExecuteTime": {
     "end_time": "2022-05-26T00:25:19.759792Z",
     "start_time": "2022-05-26T00:25:13.137231Z"
    }
   },
   "outputs": [],
   "source": [
    "dummy_pipe = ModelWithCV(dummy_model_pipe,model_name = 'dummy_mod', X=X_train,y=y_train)"
   ]
  },
  {
   "cell_type": "code",
   "execution_count": 88,
   "metadata": {
    "ExecuteTime": {
     "end_time": "2022-05-26T00:25:20.319326Z",
     "start_time": "2022-05-26T00:25:20.308354Z"
    }
   },
   "outputs": [
    {
     "name": "stdout",
     "output_type": "stream",
     "text": [
      "CV Results for `dummy_mod` model:\n",
      "            -0.09730 ± 0.16507 R_squared\n",
      "        \n"
     ]
    }
   ],
   "source": [
    "dummy_pipe.print_cv_summary()"
   ]
  },
  {
   "cell_type": "markdown",
   "metadata": {},
   "source": [
    "### HistGradientBoostingRegressor"
   ]
  },
  {
   "cell_type": "markdown",
   "metadata": {
    "ExecuteTime": {
     "end_time": "2022-05-26T04:08:39.457894Z",
     "start_time": "2022-05-26T04:08:39.444250Z"
    }
   },
   "source": [
    "#### Defaults"
   ]
  },
  {
   "cell_type": "code",
   "execution_count": 102,
   "metadata": {
    "ExecuteTime": {
     "end_time": "2022-05-26T04:08:39.457894Z",
     "start_time": "2022-05-26T04:08:39.444250Z"
    }
   },
   "outputs": [],
   "source": [
    "hist_model_pipe = Pipeline(steps=[\n",
    "    ('ct',ct),\n",
    "    ('hist_GBR',HistGradientBoostingRegressor(random_state=42, scoring='r2', categorical_features = [22,23,24],max_bins=2))\n",
    "])\n",
    "\n",
    "hist_model = hist_model_pipe.fit(X_train,y_train)"
   ]
  },
  {
   "cell_type": "code",
   "execution_count": 103,
   "metadata": {
    "ExecuteTime": {
     "end_time": "2022-05-26T04:08:39.457894Z",
     "start_time": "2022-05-26T04:08:39.444250Z"
    }
   },
   "outputs": [],
   "source": [
    "hist_pipe = ModelWithCV(hist_model_pipe,model_name = 'hist_GBR', X=X_train,y=y_train)"
   ]
  },
  {
   "cell_type": "code",
   "execution_count": 104,
   "metadata": {
    "ExecuteTime": {
     "end_time": "2022-05-26T04:08:39.457894Z",
     "start_time": "2022-05-26T04:08:39.444250Z"
    }
   },
   "outputs": [
    {
     "name": "stdout",
     "output_type": "stream",
     "text": [
      "CV Results for `hist_GBR` model:\n",
      "            0.06964 ± 0.14258 R_squared\n",
      "        \n"
     ]
    }
   ],
   "source": [
    "hist_pipe.print_cv_summary()"
   ]
  },
  {
   "cell_type": "markdown",
   "metadata": {},
   "source": [
    "This model is overfit, lets see if we can "
   ]
  },
  {
   "cell_type": "code",
   "execution_count": 97,
   "metadata": {
    "ExecuteTime": {
     "end_time": "2022-05-26T03:59:18.720146Z",
     "start_time": "2022-05-26T03:59:18.697057Z"
    }
   },
   "outputs": [
    {
     "data": {
      "text/plain": [
       "(50458, 23)"
      ]
     },
     "execution_count": 97,
     "metadata": {},
     "output_type": "execute_result"
    }
   ],
   "source": [
    "X_train.shape"
   ]
  },
  {
   "cell_type": "markdown",
   "metadata": {},
   "source": [
    "#### GridSearch"
   ]
  },
  {
   "cell_type": "markdown",
   "metadata": {},
   "source": [
    "    'hist_GBR__l2_regularization':[0.01, 0.05, 0.1]"
   ]
  },
  {
   "cell_type": "code",
   "execution_count": 105,
   "metadata": {
    "ExecuteTime": {
     "end_time": "2022-05-26T04:18:23.039446Z",
     "start_time": "2022-05-26T04:09:46.916681Z"
    }
   },
   "outputs": [
    {
     "data": {
      "text/plain": [
       "GridSearchCV(estimator=Pipeline(steps=[('ct',\n",
       "                                        ColumnTransformer(transformers=[('subpipe_num',\n",
       "                                                                         Pipeline(steps=[('get_num',\n",
       "                                                                                          FunctionTransformer(func=<function grab_numeric at 0x000001FE0C5A8160>)),\n",
       "                                                                                         ('ss',\n",
       "                                                                                          StandardScaler())]),\n",
       "                                                                         Index(['neighbor_1', 'neighbor_2', 'neighbor_3', 'neighbor_4', 'neighbor_5',\n",
       "       'neighbor_6', 'neighbor_7', 'neighbor_8', 'neighbor_9', 'neighbor_1...\n",
       "       'neighbor_19', 'neighbor_20', 'latitude', 'longitude', 'region'],\n",
       "      dtype='object'))])),\n",
       "                                       ('hist_GBR',\n",
       "                                        HistGradientBoostingRegressor(categorical_features=[22,\n",
       "                                                                                            23,\n",
       "                                                                                            24],\n",
       "                                                                      max_bins=2,\n",
       "                                                                      random_state=42,\n",
       "                                                                      scoring='r2'))]),\n",
       "             param_grid={'hist_GBR__learning_rate': [0.5, 0.7],\n",
       "                         'hist_GBR__max_depth': [100, 1000],\n",
       "                         'hist_GBR__max_iter': [50, 500, 1000],\n",
       "                         'hist_GBR__min_samples_leaf': [100, 500],\n",
       "                         'hist_GBR__validation_fraction': [0.2]})"
      ]
     },
     "execution_count": 105,
     "metadata": {},
     "output_type": "execute_result"
    }
   ],
   "source": [
    "histGBR_grid_params = {\n",
    "    'hist_GBR__learning_rate':[0.5,0.7], \n",
    "    'hist_GBR__max_iter':[50,500, 1000],  \n",
    "    'hist_GBR__max_depth':[100,1000], \n",
    "    'hist_GBR__min_samples_leaf':[100,500],\n",
    "    'hist_GBR__validation_fraction':[0.2],\n",
    "}\n",
    "\n",
    "hist_grid = GridSearchCV(hist_model_pipe, histGBR_grid_params)\n",
    "\n",
    "hist_grid.fit(X_train,y_train)"
   ]
  },
  {
   "cell_type": "code",
   "execution_count": null,
   "metadata": {},
   "outputs": [],
   "source": []
  },
  {
   "cell_type": "code",
   "execution_count": null,
   "metadata": {},
   "outputs": [],
   "source": []
  },
  {
   "cell_type": "markdown",
   "metadata": {},
   "source": [
    "### "
   ]
  }
 ],
 "metadata": {
  "kernelspec": {
   "display_name": "geo_env",
   "language": "python",
   "name": "geo_env"
  },
  "language_info": {
   "codemirror_mode": {
    "name": "ipython",
    "version": 3
   },
   "file_extension": ".py",
   "mimetype": "text/x-python",
   "name": "python",
   "nbconvert_exporter": "python",
   "pygments_lexer": "ipython3",
   "version": "3.10.4"
  },
  "toc": {
   "base_numbering": 1,
   "nav_menu": {},
   "number_sections": true,
   "sideBar": true,
   "skip_h1_title": false,
   "title_cell": "Table of Contents",
   "title_sidebar": "Contents",
   "toc_cell": false,
   "toc_position": {
    "height": "calc(100% - 180px)",
    "left": "10px",
    "top": "150px",
    "width": "195.188px"
   },
   "toc_section_display": true,
   "toc_window_display": true
  },
  "varInspector": {
   "cols": {
    "lenName": 16,
    "lenType": 16,
    "lenVar": 40
   },
   "kernels_config": {
    "python": {
     "delete_cmd_postfix": "",
     "delete_cmd_prefix": "del ",
     "library": "var_list.py",
     "varRefreshCmd": "print(var_dic_list())"
    },
    "r": {
     "delete_cmd_postfix": ") ",
     "delete_cmd_prefix": "rm(",
     "library": "var_list.r",
     "varRefreshCmd": "cat(var_dic_list()) "
    }
   },
   "types_to_exclude": [
    "module",
    "function",
    "builtin_function_or_method",
    "instance",
    "_Feature"
   ],
   "window_display": false
  }
 },
 "nbformat": 4,
 "nbformat_minor": 4
}
